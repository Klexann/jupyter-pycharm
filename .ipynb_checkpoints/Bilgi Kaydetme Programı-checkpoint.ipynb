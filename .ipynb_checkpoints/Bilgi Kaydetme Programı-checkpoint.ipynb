{
 "cells": [
  {
   "cell_type": "code",
   "execution_count": 1,
   "metadata": {},
   "outputs": [
    {
     "name": "stdout",
     "output_type": "stream",
     "text": [
      "Kullanıcı Kaydetme Defteri\n",
      "Kullanıcı Adı:Eray Semih\n",
      "Kullanıcı Soyadı:Yılmaz\n",
      "Kullanıcı Eğitim Durumu:Lise Son Sınıf\n",
      "Bilgiler işleniyor...\n",
      "Kullanıcı Adı: Eray Semih \n",
      "Kullanıcı Soyadı: Yılmaz\n",
      "Kullanıcı Eğitim Durumu: Lise Son Sınıf\n",
      "\n",
      "Bilgiler Kaydedildi. Teşekkürler. :) \n"
     ]
    }
   ],
   "source": [
    "print(\"Kullanıcı Kaydetme Defteri\")\n",
    "\n",
    "ad = input(\"Kullanıcı Adı:\")\n",
    "soyad = input(\"Kullanıcı Soyadı:\")\n",
    "öğrenim = input(\"Kullanıcı Eğitim Durumu:\")\n",
    "\n",
    "bilgiler = [ad,soyad,öğrenim]\n",
    "\n",
    "print(\"Bilgiler işleniyor...\")\n",
    "\n",
    "print(\"Kullanıcı Adı: {} \\nKullanıcı Soyadı: {}\\nKullanıcı Eğitim Durumu: {}\\n\".format(bilgiler[0],bilgiler[1],bilgiler[2]))\n",
    "\n",
    "print(\"Bilgiler Kaydedildi. Teşekkürler. :) \")"
   ]
  },
  {
   "cell_type": "code",
   "execution_count": null,
   "metadata": {},
   "outputs": [],
   "source": []
  }
 ],
 "metadata": {
  "kernelspec": {
   "display_name": "Python 3",
   "language": "python",
   "name": "python3"
  },
  "language_info": {
   "codemirror_mode": {
    "name": "ipython",
    "version": 3
   },
   "file_extension": ".py",
   "mimetype": "text/x-python",
   "name": "python",
   "nbconvert_exporter": "python",
   "pygments_lexer": "ipython3",
   "version": "3.8.5"
  }
 },
 "nbformat": 4,
 "nbformat_minor": 4
}
