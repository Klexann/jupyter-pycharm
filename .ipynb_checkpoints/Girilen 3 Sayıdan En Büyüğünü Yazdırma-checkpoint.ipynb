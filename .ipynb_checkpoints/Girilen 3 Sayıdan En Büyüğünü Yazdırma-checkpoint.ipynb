{
 "cells": [
  {
   "cell_type": "code",
   "execution_count": 1,
   "metadata": {},
   "outputs": [
    {
     "name": "stdout",
     "output_type": "stream",
     "text": [
      "Girilen 3 sayıdan en büyüğünü yazdırma problemi.\n",
      "1. Sayıyı Giriniz: 5\n",
      "2. Sayıyı Giriniz: 25\n",
      "3. Sayıyı Giriniz: 2222\n",
      "En büyük sayı:  2222\n"
     ]
    }
   ],
   "source": [
    "print(\"Girilen 3 sayıdan en büyüğünü yazdırma problemi.\")\n",
    "\n",
    "a = int(input(\"1. Sayıyı Giriniz: \"))\n",
    "b = int(input(\"2. Sayıyı Giriniz: \"))\n",
    "c = int(input(\"3. Sayıyı Giriniz: \"))\n",
    "\n",
    "if (a > b and a > c):\n",
    "    print(\"En büyük sayı: \",a)\n",
    "elif (b > a and b > c):\n",
    "    print(\"En büyük sayı: \",b)\n",
    "elif (c > a and c > b):\n",
    "    print(\"En büyük sayı: \",c)"
   ]
  },
  {
   "cell_type": "code",
   "execution_count": null,
   "metadata": {},
   "outputs": [],
   "source": []
  }
 ],
 "metadata": {
  "kernelspec": {
   "display_name": "Python 3",
   "language": "python",
   "name": "python3"
  },
  "language_info": {
   "codemirror_mode": {
    "name": "ipython",
    "version": 3
   },
   "file_extension": ".py",
   "mimetype": "text/x-python",
   "name": "python",
   "nbconvert_exporter": "python",
   "pygments_lexer": "ipython3",
   "version": "3.8.5"
  }
 },
 "nbformat": 4,
 "nbformat_minor": 4
}
