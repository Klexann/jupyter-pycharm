{
 "cells": [
  {
   "cell_type": "code",
   "execution_count": 1,
   "metadata": {},
   "outputs": [
    {
     "name": "stdout",
     "output_type": "stream",
     "text": [
      "Hangi şeklin tipini öğrenmek istiyorsunuz? : Üçgen\n",
      "Lütfen 3 kenarın da değerini giriniz.\n",
      "1. Kenar: 7\n",
      "2. Kenar: 10\n",
      "3. Kenar: 6\n",
      "Çeşitkenar Üçgen\n"
     ]
    }
   ],
   "source": [
    "şekil = input(\"Hangi şeklin tipini öğrenmek istiyorsunuz? : \")\n",
    "\n",
    "if (şekil == \"Dörtgen\"):\n",
    "    print(\"Lütfen 4 kenarın da değerini giriniz.\")\n",
    "    a = int(input(\"1. Kenar: \"))\n",
    "    b = int(input(\"2. Kenar: \"))\n",
    "    c = int(input(\"3. Kenar: \"))\n",
    "    d = int(input(\"4. Kenar: \"))\n",
    "\n",
    "    if ( a==b and a==c and b==c):\n",
    "        print(\"Kare\")\n",
    "    elif (a==c and b==d):\n",
    "        print(\"Dikdörtgen\")\n",
    "    else:\n",
    "        print(\"Dörtgen\")\n",
    "\n",
    "elif (şekil == \"Üçgen\"):\n",
    "    print(\"Lütfen 3 kenarın da değerini giriniz.\")\n",
    "    a = int(input(\"1. Kenar: \"))\n",
    "    b = int(input(\"2. Kenar: \"))\n",
    "    c = int(input(\"3. Kenar: \"))\n",
    "    if ( abs(a+b) > c and abs(a+c) > b and abs(b+c) > a):\n",
    "        if(a==b and a==c):\n",
    "            print(\"Eşkenar Üçgen\")\n",
    "        elif((a==b and a != c) or (a==c and a != b) or (b==c and b != a)):\n",
    "            print(\"İkizkenar Üçgen\")\n",
    "        else:\n",
    "            print(\"Çeşitkenar Üçgen\")\n",
    "    else:\n",
    "        print(\"Üçgen Değildir!\")\n",
    "\n",
    "else:\n",
    "    print(\"Geçersiz Şekil!\")"
   ]
  },
  {
   "cell_type": "code",
   "execution_count": null,
   "metadata": {},
   "outputs": [],
   "source": []
  }
 ],
 "metadata": {
  "kernelspec": {
   "display_name": "Python 3",
   "language": "python",
   "name": "python3"
  },
  "language_info": {
   "codemirror_mode": {
    "name": "ipython",
    "version": 3
   },
   "file_extension": ".py",
   "mimetype": "text/x-python",
   "name": "python",
   "nbconvert_exporter": "python",
   "pygments_lexer": "ipython3",
   "version": "3.8.5"
  }
 },
 "nbformat": 4,
 "nbformat_minor": 4
}
