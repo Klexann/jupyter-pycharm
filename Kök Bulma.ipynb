{
 "cells": [
  {
   "cell_type": "code",
   "execution_count": 1,
   "metadata": {},
   "outputs": [
    {
     "name": "stdout",
     "output_type": "stream",
     "text": [
      "Denklemin a değeri:1\n",
      "Denklemin b değeri:4\n",
      "Denklemin c değeri:2\n",
      "Birinci Kök : -3.414213562373095\n",
      "İkinci Kök : -0.5857864376269049\n"
     ]
    }
   ],
   "source": [
    "a = int(input(\"Denklemin a değeri:\"))\n",
    "\n",
    "b = int(input(\"Denklemin b değeri:\"))\n",
    "\n",
    "c = int(input(\"Denklemin c değeri:\"))\n",
    "\n",
    "\n",
    "delta  = b ** 2 - 4  * a * c\n",
    "\n",
    "x1  =  (-b - delta ** 0.5)/ (2 * a)\n",
    "\n",
    "x2 = (-b + delta ** 0.5) / (2 * a)\n",
    "\n",
    "\n",
    "print(\"Birinci Kök : {}\\nİkinci Kök : {}\".format(x1,x2))"
   ]
  },
  {
   "cell_type": "code",
   "execution_count": null,
   "metadata": {},
   "outputs": [],
   "source": []
  }
 ],
 "metadata": {
  "kernelspec": {
   "display_name": "Python 3",
   "language": "python",
   "name": "python3"
  },
  "language_info": {
   "codemirror_mode": {
    "name": "ipython",
    "version": 3
   },
   "file_extension": ".py",
   "mimetype": "text/x-python",
   "name": "python",
   "nbconvert_exporter": "python",
   "pygments_lexer": "ipython3",
   "version": "3.8.5"
  }
 },
 "nbformat": 4,
 "nbformat_minor": 4
}
