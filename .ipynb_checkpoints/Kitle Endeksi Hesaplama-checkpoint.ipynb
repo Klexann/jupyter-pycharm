{
 "cells": [
  {
   "cell_type": "code",
   "execution_count": 1,
   "metadata": {},
   "outputs": [
    {
     "name": "stdout",
     "output_type": "stream",
     "text": [
      "Kitle Endeksi Problemi\n",
      "Boyunuzu Girin: 1.85\n",
      "Kilonuzu Girin: 98\n",
      "Fazla Kilolu\n"
     ]
    }
   ],
   "source": [
    "print(\"Kitle Endeksi Problemi\")\n",
    "\n",
    "boy = float(input(\"Boyunuzu Girin: \"))\n",
    "kilo = int(input(\"Kilonuzu Girin: \"))\n",
    "\n",
    "sys_kitle_endeksi = kilo / (boy ** 2)\n",
    "\n",
    "if (sys_kitle_endeksi < 18.5):\n",
    "    print(\"Zayıf\")\n",
    "elif (18.5 < sys_kitle_endeksi < 25):\n",
    "    print(\"Normal\")\n",
    "elif (25 < sys_kitle_endeksi < 30):\n",
    "    print(\"Fazla Kilolu\")\n",
    "elif (30 < sys_kitle_endeksi):\n",
    "    print(\"Obez\")"
   ]
  },
  {
   "cell_type": "code",
   "execution_count": null,
   "metadata": {},
   "outputs": [],
   "source": []
  }
 ],
 "metadata": {
  "kernelspec": {
   "display_name": "Python 3",
   "language": "python",
   "name": "python3"
  },
  "language_info": {
   "codemirror_mode": {
    "name": "ipython",
    "version": 3
   },
   "file_extension": ".py",
   "mimetype": "text/x-python",
   "name": "python",
   "nbconvert_exporter": "python",
   "pygments_lexer": "ipython3",
   "version": "3.8.5"
  }
 },
 "nbformat": 4,
 "nbformat_minor": 4
}
