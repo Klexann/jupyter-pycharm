{
 "cells": [
  {
   "cell_type": "code",
   "execution_count": 1,
   "metadata": {},
   "outputs": [
    {
     "name": "stdout",
     "output_type": "stream",
     "text": [
      "********************\n",
      "Hesap Makinesi Programı\n",
      "\n",
      "İşlemler:\n",
      "\n",
      "1.Toplama İşlemi\n",
      "\n",
      "2.Çıkarma İşlemi\n",
      "\n",
      "3.Çarpma İşlemi\n",
      "\n",
      "4.Bölme İşlemi\n",
      "\n",
      "********************\n",
      "\n",
      "Birinci Sayı: 2\n",
      "İkinci Sayı: 3\n",
      "İşlem Giriniz: 1\n",
      "2 ile 3 in toplamı 5 olur.\n"
     ]
    }
   ],
   "source": [
    "print(\"\"\"********************\n",
    "Hesap Makinesi Programı\n",
    "\n",
    "İşlemler:\n",
    "\n",
    "1.Toplama İşlemi\n",
    "\n",
    "2.Çıkarma İşlemi\n",
    "\n",
    "3.Çarpma İşlemi\n",
    "\n",
    "4.Bölme İşlemi\n",
    "\n",
    "********************\n",
    "\"\"\")\n",
    "\n",
    "a = int(input(\"Birinci Sayı: \"))\n",
    "b = int(input(\"İkinci Sayı: \"))\n",
    "\n",
    "işlem = input(\"İşlem Giriniz: \")\n",
    "\n",
    "if işlem == \"1\":\n",
    "    print(\"{} ile {} in toplamı {} olur.\".format(a,b,a+b))\n",
    "\n",
    "elif işlem == \"2\":\n",
    "    print(\"{} ile {} in farkı {} olur.\".format(a,b,a-b))\n",
    "\n",
    "elif işlem == \"3\":\n",
    "    print(\"{} ile {} in çarpımı {} olur.\".format(a,b,a*b))\n",
    "\n",
    "elif işlem == \"4\":\n",
    "    print(\"{} ile {} in bölümü {} olur.\".format(a,b,a//b))\n",
    "\n",
    "else:\n",
    "    print(\"Geçersiz İşlem!\")"
   ]
  },
  {
   "cell_type": "code",
   "execution_count": null,
   "metadata": {},
   "outputs": [],
   "source": []
  }
 ],
 "metadata": {
  "kernelspec": {
   "display_name": "Python 3",
   "language": "python",
   "name": "python3"
  },
  "language_info": {
   "codemirror_mode": {
    "name": "ipython",
    "version": 3
   },
   "file_extension": ".py",
   "mimetype": "text/x-python",
   "name": "python",
   "nbconvert_exporter": "python",
   "pygments_lexer": "ipython3",
   "version": "3.8.5"
  }
 },
 "nbformat": 4,
 "nbformat_minor": 4
}
