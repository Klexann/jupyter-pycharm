{
 "cells": [
  {
   "cell_type": "code",
   "execution_count": 1,
   "metadata": {},
   "outputs": [
    {
     "name": "stdout",
     "output_type": "stream",
     "text": [
      "\n",
      "*******************\n",
      "Kullanıcı Girişi\n",
      "*******************\n",
      "\n",
      "Kullanıcı Adınız: Eray\n",
      "Şifre:Erayx41311111111111111\n",
      "Parola Hatalı!\n"
     ]
    }
   ],
   "source": [
    "print(\"\"\"\n",
    "*******************\n",
    "Kullanıcı Girişi\n",
    "*******************\n",
    "\"\"\")\n",
    "\n",
    "sys_kullanıcı_adı = \"Eray\"\n",
    "sys_şifre = \"Erayx413*\"\n",
    "\n",
    "kullanıcı_adı = input(\"Kullanıcı Adınız: \")\n",
    "şifre = input(\"Şifre:\")\n",
    "\n",
    "if (kullanıcı_adı == sys_kullanıcı_adı and sys_şifre != şifre):\n",
    "    print(\"Parola Hatalı!\")\n",
    "elif (kullanıcı_adı != sys_kullanıcı_adı and şifre == sys_şifre):\n",
    "    print(\"Kullanıcı Adı Hatalı!\")\n",
    "elif (kullanıcı_adı != sys_kullanıcı_adı and şifre != sys_şifre):\n",
    "    print(\"Kullanıcı Adı ve Şifre Hatalı!\")\n",
    "else:\n",
    "    print(\"Hesabınıza Giriş Başarılı!\")"
   ]
  },
  {
   "cell_type": "code",
   "execution_count": null,
   "metadata": {},
   "outputs": [],
   "source": []
  }
 ],
 "metadata": {
  "kernelspec": {
   "display_name": "Python 3",
   "language": "python",
   "name": "python3"
  },
  "language_info": {
   "codemirror_mode": {
    "name": "ipython",
    "version": 3
   },
   "file_extension": ".py",
   "mimetype": "text/x-python",
   "name": "python",
   "nbconvert_exporter": "python",
   "pygments_lexer": "ipython3",
   "version": "3.8.5"
  }
 },
 "nbformat": 4,
 "nbformat_minor": 4
}
